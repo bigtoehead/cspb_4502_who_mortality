{
 "cells": [
  {
   "cell_type": "code",
   "execution_count": 1,
   "metadata": {
    "collapsed": true
   },
   "outputs": [],
   "source": [
    "import pandas as pd\n",
    "import numpy as np"
   ]
  },
  {
   "cell_type": "code",
   "execution_count": 3,
   "metadata": {},
   "outputs": [
    {
     "name": "stderr",
     "output_type": "stream",
     "text": [
      "C:\\Users\\ynot3\\Anaconda3\\lib\\site-packages\\IPython\\core\\interactiveshell.py:2698: DtypeWarning:\n",
      "\n",
      "Columns (4) have mixed types. Specify dtype option on import or set low_memory=False.\n",
      "\n",
      "C:\\Users\\ynot3\\Anaconda3\\lib\\site-packages\\IPython\\core\\interactiveshell.py:2698: DtypeWarning:\n",
      "\n",
      "Columns (2,4) have mixed types. Specify dtype option on import or set low_memory=False.\n",
      "\n"
     ]
    }
   ],
   "source": [
    "#import icd10 data from both files\n",
    "icd10_1 = pd.read_csv(\"icd10-1\") #first half\n",
    "icd10_2 = pd.read_csv(\"icd10-2\") #second half"
   ]
  },
  {
   "cell_type": "code",
   "execution_count": 4,
   "metadata": {
    "collapsed": true
   },
   "outputs": [],
   "source": [
    "##population add on per WHO population data file\n",
    "pop = pd.read_csv('pop')"
   ]
  },
  {
   "cell_type": "code",
   "execution_count": 5,
   "metadata": {},
   "outputs": [
    {
     "data": {
      "text/html": [
       "<div>\n",
       "<style>\n",
       "    .dataframe thead tr:only-child th {\n",
       "        text-align: right;\n",
       "    }\n",
       "\n",
       "    .dataframe thead th {\n",
       "        text-align: left;\n",
       "    }\n",
       "\n",
       "    .dataframe tbody tr th {\n",
       "        vertical-align: top;\n",
       "    }\n",
       "</style>\n",
       "<table border=\"1\" class=\"dataframe\">\n",
       "  <thead>\n",
       "    <tr style=\"text-align: right;\">\n",
       "      <th></th>\n",
       "      <th>Country</th>\n",
       "      <th>Admin1</th>\n",
       "      <th>SubDiv</th>\n",
       "      <th>Year</th>\n",
       "      <th>Sex</th>\n",
       "      <th>Frmat</th>\n",
       "      <th>Pop1</th>\n",
       "      <th>Pop2</th>\n",
       "      <th>Pop3</th>\n",
       "      <th>Pop4</th>\n",
       "      <th>...</th>\n",
       "      <th>Pop18</th>\n",
       "      <th>Pop19</th>\n",
       "      <th>Pop20</th>\n",
       "      <th>Pop21</th>\n",
       "      <th>Pop22</th>\n",
       "      <th>Pop23</th>\n",
       "      <th>Pop24</th>\n",
       "      <th>Pop25</th>\n",
       "      <th>Pop26</th>\n",
       "      <th>Lb</th>\n",
       "    </tr>\n",
       "  </thead>\n",
       "  <tbody>\n",
       "    <tr>\n",
       "      <th>0</th>\n",
       "      <td>1060</td>\n",
       "      <td>NaN</td>\n",
       "      <td>NaN</td>\n",
       "      <td>1980</td>\n",
       "      <td>1</td>\n",
       "      <td>7</td>\n",
       "      <td>137100.0</td>\n",
       "      <td>3400.0</td>\n",
       "      <td>15800.0</td>\n",
       "      <td>NaN</td>\n",
       "      <td>...</td>\n",
       "      <td>NaN</td>\n",
       "      <td>5300.0</td>\n",
       "      <td>NaN</td>\n",
       "      <td>2900.0</td>\n",
       "      <td>NaN</td>\n",
       "      <td>NaN</td>\n",
       "      <td>NaN</td>\n",
       "      <td>NaN</td>\n",
       "      <td>6500.0</td>\n",
       "      <td>5000.0</td>\n",
       "    </tr>\n",
       "    <tr>\n",
       "      <th>1</th>\n",
       "      <td>1060</td>\n",
       "      <td>NaN</td>\n",
       "      <td>NaN</td>\n",
       "      <td>1980</td>\n",
       "      <td>2</td>\n",
       "      <td>7</td>\n",
       "      <td>159000.0</td>\n",
       "      <td>4000.0</td>\n",
       "      <td>18400.0</td>\n",
       "      <td>NaN</td>\n",
       "      <td>...</td>\n",
       "      <td>NaN</td>\n",
       "      <td>6200.0</td>\n",
       "      <td>NaN</td>\n",
       "      <td>3400.0</td>\n",
       "      <td>NaN</td>\n",
       "      <td>NaN</td>\n",
       "      <td>NaN</td>\n",
       "      <td>NaN</td>\n",
       "      <td>7500.0</td>\n",
       "      <td>6000.0</td>\n",
       "    </tr>\n",
       "    <tr>\n",
       "      <th>2</th>\n",
       "      <td>1125</td>\n",
       "      <td>NaN</td>\n",
       "      <td>NaN</td>\n",
       "      <td>1955</td>\n",
       "      <td>1</td>\n",
       "      <td>2</td>\n",
       "      <td>5051500.0</td>\n",
       "      <td>150300.0</td>\n",
       "      <td>543400.0</td>\n",
       "      <td>NaN</td>\n",
       "      <td>...</td>\n",
       "      <td>110200.0</td>\n",
       "      <td>51100.0</td>\n",
       "      <td>41600.0</td>\n",
       "      <td>14300.0</td>\n",
       "      <td>11800.0</td>\n",
       "      <td>25300.0</td>\n",
       "      <td>NaN</td>\n",
       "      <td>NaN</td>\n",
       "      <td>0.0</td>\n",
       "      <td>253329.0</td>\n",
       "    </tr>\n",
       "    <tr>\n",
       "      <th>3</th>\n",
       "      <td>1125</td>\n",
       "      <td>NaN</td>\n",
       "      <td>NaN</td>\n",
       "      <td>1955</td>\n",
       "      <td>2</td>\n",
       "      <td>2</td>\n",
       "      <td>5049400.0</td>\n",
       "      <td>145200.0</td>\n",
       "      <td>551000.0</td>\n",
       "      <td>NaN</td>\n",
       "      <td>...</td>\n",
       "      <td>122100.0</td>\n",
       "      <td>51100.0</td>\n",
       "      <td>50700.0</td>\n",
       "      <td>15800.0</td>\n",
       "      <td>18000.0</td>\n",
       "      <td>28500.0</td>\n",
       "      <td>NaN</td>\n",
       "      <td>NaN</td>\n",
       "      <td>0.0</td>\n",
       "      <td>237901.0</td>\n",
       "    </tr>\n",
       "    <tr>\n",
       "      <th>4</th>\n",
       "      <td>1125</td>\n",
       "      <td>NaN</td>\n",
       "      <td>NaN</td>\n",
       "      <td>1956</td>\n",
       "      <td>1</td>\n",
       "      <td>2</td>\n",
       "      <td>5353700.0</td>\n",
       "      <td>158700.0</td>\n",
       "      <td>576600.0</td>\n",
       "      <td>NaN</td>\n",
       "      <td>...</td>\n",
       "      <td>116900.0</td>\n",
       "      <td>54100.0</td>\n",
       "      <td>44000.0</td>\n",
       "      <td>14900.0</td>\n",
       "      <td>12400.0</td>\n",
       "      <td>26600.0</td>\n",
       "      <td>NaN</td>\n",
       "      <td>NaN</td>\n",
       "      <td>0.0</td>\n",
       "      <td>250022.0</td>\n",
       "    </tr>\n",
       "  </tbody>\n",
       "</table>\n",
       "<p>5 rows × 33 columns</p>\n",
       "</div>"
      ],
      "text/plain": [
       "   Country  Admin1 SubDiv  Year  Sex  Frmat       Pop1      Pop2      Pop3  \\\n",
       "0     1060     NaN    NaN  1980    1      7   137100.0    3400.0   15800.0   \n",
       "1     1060     NaN    NaN  1980    2      7   159000.0    4000.0   18400.0   \n",
       "2     1125     NaN    NaN  1955    1      2  5051500.0  150300.0  543400.0   \n",
       "3     1125     NaN    NaN  1955    2      2  5049400.0  145200.0  551000.0   \n",
       "4     1125     NaN    NaN  1956    1      2  5353700.0  158700.0  576600.0   \n",
       "\n",
       "   Pop4    ...        Pop18    Pop19    Pop20    Pop21    Pop22    Pop23  \\\n",
       "0   NaN    ...          NaN   5300.0      NaN   2900.0      NaN      NaN   \n",
       "1   NaN    ...          NaN   6200.0      NaN   3400.0      NaN      NaN   \n",
       "2   NaN    ...     110200.0  51100.0  41600.0  14300.0  11800.0  25300.0   \n",
       "3   NaN    ...     122100.0  51100.0  50700.0  15800.0  18000.0  28500.0   \n",
       "4   NaN    ...     116900.0  54100.0  44000.0  14900.0  12400.0  26600.0   \n",
       "\n",
       "   Pop24  Pop25   Pop26        Lb  \n",
       "0    NaN    NaN  6500.0    5000.0  \n",
       "1    NaN    NaN  7500.0    6000.0  \n",
       "2    NaN    NaN     0.0  253329.0  \n",
       "3    NaN    NaN     0.0  237901.0  \n",
       "4    NaN    NaN     0.0  250022.0  \n",
       "\n",
       "[5 rows x 33 columns]"
      ]
     },
     "execution_count": 5,
     "metadata": {},
     "output_type": "execute_result"
    }
   ],
   "source": [
    "pop.head()"
   ]
  },
  {
   "cell_type": "code",
   "execution_count": null,
   "metadata": {
    "collapsed": true
   },
   "outputs": [],
   "source": [
    "## read in the file with the cause mapping from 1-20\n",
    "conCauses = pd.read_csv(\"condensed_causes_full.csv\", low_memory = False)"
   ]
  },
  {
   "cell_type": "code",
   "execution_count": null,
   "metadata": {
    "collapsed": true
   },
   "outputs": [],
   "source": [
    "conCauses.tail()"
   ]
  },
  {
   "cell_type": "code",
   "execution_count": null,
   "metadata": {
    "collapsed": true
   },
   "outputs": [],
   "source": [
    "## copy the conCauses df into a merger df so the merge is simpler...will drop a bunch of columns\n",
    "conCause_merger = conCauses\n",
    "conCause_merger.tail()"
   ]
  },
  {
   "cell_type": "code",
   "execution_count": null,
   "metadata": {
    "collapsed": true
   },
   "outputs": [],
   "source": [
    "##merging df ready\n",
    "conCause_merger.drop(conCause_merger.loc[:,'Frmat':'IM_Deaths4'], axis=1, inplace = True)\n",
    "conCause_merger.drop(['Admin1','SubDiv','List'],axis =1, inplace = True)"
   ]
  },
  {
   "cell_type": "code",
   "execution_count": null,
   "metadata": {
    "collapsed": true
   },
   "outputs": [],
   "source": [
    "conCause_merger = conCause_merger.groupby(['new_cause','Country','Year','Cause']).sum().reset_index()\n",
    "conCause_merger.tail()"
   ]
  },
  {
   "cell_type": "code",
   "execution_count": null,
   "metadata": {
    "collapsed": true
   },
   "outputs": [],
   "source": [
    "##pop1 is the total column so dropping all data except total pop year and country... sex is handled below\n",
    "pop.drop(pop.loc[:,'Pop2':'Lb'],axis=1,inplace =True)\n",
    "pop.drop(['Admin1','SubDiv','Frmat'],axis =1,inplace = True)"
   ]
  },
  {
   "cell_type": "code",
   "execution_count": null,
   "metadata": {
    "collapsed": true
   },
   "outputs": [],
   "source": [
    "## a population add on with total population by country by year.. the groupby.sum() combines male and female\n",
    "pop = pop.groupby(['Country','Year']).sum().reset_index()"
   ]
  },
  {
   "cell_type": "code",
   "execution_count": null,
   "metadata": {
    "collapsed": true
   },
   "outputs": [],
   "source": [
    "pop.tail()"
   ]
  },
  {
   "cell_type": "code",
   "execution_count": null,
   "metadata": {
    "collapsed": true
   },
   "outputs": [],
   "source": [
    "#Combine ICD datasets into one and reset index \n",
    "icd10 = icd10_1.append(icd10_2).reset_index()"
   ]
  },
  {
   "cell_type": "code",
   "execution_count": null,
   "metadata": {
    "collapsed": true
   },
   "outputs": [],
   "source": [
    "#drop any na values in all cause mortality (turns out there are none)\n",
    "icd10 = icd10[pd.notnull(icd10['Deaths1'])]"
   ]
  },
  {
   "cell_type": "code",
   "execution_count": null,
   "metadata": {
    "collapsed": true
   },
   "outputs": [],
   "source": [
    "#drop ages by death in favor of using all cause mortality the Death1 field\n",
    "icd10.drop(icd10.loc[:, 'Deaths2':'Deaths26'], axis=1, inplace = True)"
   ]
  },
  {
   "cell_type": "code",
   "execution_count": null,
   "metadata": {
    "collapsed": true
   },
   "outputs": [],
   "source": [
    "#drop additional mortality formatting for location/age\n",
    "icd10.drop(['index','Admin1','SubDiv','Frmat','IM_Frmat','IM_Deaths1','IM_Deaths2','IM_Deaths3','IM_Deaths4'], axis = 1, inplace = True)"
   ]
  },
  {
   "cell_type": "code",
   "execution_count": null,
   "metadata": {
    "collapsed": true
   },
   "outputs": [],
   "source": [
    "## both ICD databases combined with rows described above dropped. should have country,year,list,cause,sex and death1 remaining\n",
    "icd10.head()"
   ]
  },
  {
   "cell_type": "code",
   "execution_count": null,
   "metadata": {
    "collapsed": true
   },
   "outputs": [],
   "source": [
    "#Here is some  basic EDA \n",
    "icd10.dtypes\n",
    "\n"
   ]
  },
  {
   "cell_type": "code",
   "execution_count": null,
   "metadata": {
    "collapsed": true
   },
   "outputs": [],
   "source": [
    "icd10.describe()"
   ]
  },
  {
   "cell_type": "code",
   "execution_count": null,
   "metadata": {
    "collapsed": true
   },
   "outputs": [],
   "source": [
    "##created a couple copys of the ICD10 data for more eda\n",
    "##eda = icd10[icd10.List == 101].copy()\n",
    "eda = icd10.copy()\n"
   ]
  },
  {
   "cell_type": "code",
   "execution_count": null,
   "metadata": {
    "collapsed": true
   },
   "outputs": [],
   "source": [
    "eda_count = eda.groupby(['List']).count().reset_index()"
   ]
  },
  {
   "cell_type": "code",
   "execution_count": null,
   "metadata": {
    "collapsed": true
   },
   "outputs": [],
   "source": [
    "## support for why we filtered on only the 104 code\n",
    "eda_count"
   ]
  },
  {
   "cell_type": "code",
   "execution_count": null,
   "metadata": {
    "collapsed": true
   },
   "outputs": [],
   "source": [
    "## pulls only the 104 tagged lines from our main dataset\n",
    "list_104 = icd10[icd10.List == 104].copy().reset_index()"
   ]
  },
  {
   "cell_type": "code",
   "execution_count": null,
   "metadata": {
    "collapsed": true
   },
   "outputs": [],
   "source": [
    "list_104.drop(['index'],axis =1,inplace = True)"
   ]
  },
  {
   "cell_type": "code",
   "execution_count": null,
   "metadata": {
    "collapsed": true
   },
   "outputs": [],
   "source": [
    "list_104.head()"
   ]
  },
  {
   "cell_type": "code",
   "execution_count": null,
   "metadata": {
    "collapsed": true,
    "scrolled": true
   },
   "outputs": [],
   "source": [
    "## this at this point each country,year,cause combo should have 1 summed number in Deaths1 - essentially removing sex\n",
    "list_104_grouped = list_104.groupby(['Country','Year','Cause']).sum().reset_index()"
   ]
  },
  {
   "cell_type": "code",
   "execution_count": null,
   "metadata": {
    "collapsed": true
   },
   "outputs": [],
   "source": [
    "list_104_grouped.tail()"
   ]
  },
  {
   "cell_type": "code",
   "execution_count": null,
   "metadata": {
    "collapsed": true
   },
   "outputs": [],
   "source": [
    "## need to merge the population data into the 104 data to norm the death amounts to be able to identify outliers and run models\n",
    "normed_104 = list_104_grouped.merge(pop[['Country','Year','Pop1']],)"
   ]
  },
  {
   "cell_type": "code",
   "execution_count": null,
   "metadata": {
    "collapsed": true
   },
   "outputs": [],
   "source": [
    "normed_104.tail()"
   ]
  },
  {
   "cell_type": "code",
   "execution_count": null,
   "metadata": {
    "collapsed": true
   },
   "outputs": [],
   "source": [
    "## this creates a new column that is % of deaths per total population in each cause\n",
    "normed_104['Normed_Deaths'] = normed_104['Deaths1'] / normed_104['Pop1']"
   ]
  },
  {
   "cell_type": "code",
   "execution_count": null,
   "metadata": {
    "collapsed": true
   },
   "outputs": [],
   "source": [
    "normed_104.tail()"
   ]
  },
  {
   "cell_type": "code",
   "execution_count": null,
   "metadata": {
    "collapsed": true
   },
   "outputs": [],
   "source": [
    "## merging in cosolidated cause mapping\n",
    "##normed_104 = list_104_grouped.merge(pop[['Country','Year','Pop1']],)\n",
    "normed_merged = normed_104.merge(conCause_merger[['Country','Year','Cause','new_cause']],)"
   ]
  },
  {
   "cell_type": "code",
   "execution_count": null,
   "metadata": {
    "collapsed": true
   },
   "outputs": [],
   "source": [
    "normed_merged.tail()"
   ]
  },
  {
   "cell_type": "code",
   "execution_count": null,
   "metadata": {
    "collapsed": true
   },
   "outputs": [],
   "source": [
    "final_data = normed_merged.groupby(['Country','Year','new_cause']).sum().reset_index()"
   ]
  },
  {
   "cell_type": "code",
   "execution_count": null,
   "metadata": {
    "collapsed": true
   },
   "outputs": [],
   "source": [
    "## renaming new_cause to category and dropping excss columns sex,deaths1 and pop1\n",
    "## this should be our final df ready for analysis may rearrange further depending on how we want to model\n",
    "final_data.rename(columns={'new_cause':'Category'}, inplace=True)\n",
    "final_data.drop(['Sex','Deaths1','Pop1'],axis=1, inplace = True)"
   ]
  },
  {
   "cell_type": "code",
   "execution_count": 1,
   "metadata": {},
   "outputs": [
    {
     "ename": "NameError",
     "evalue": "name 'final_data' is not defined",
     "output_type": "error",
     "traceback": [
      "\u001b[1;31m---------------------------------------------------------------------------\u001b[0m",
      "\u001b[1;31mNameError\u001b[0m                                 Traceback (most recent call last)",
      "\u001b[1;32m<ipython-input-1-2ca82d931382>\u001b[0m in \u001b[0;36m<module>\u001b[1;34m()\u001b[0m\n\u001b[1;32m----> 1\u001b[1;33m \u001b[0mfinal_data\u001b[0m\u001b[1;33m\u001b[0m\u001b[0m\n\u001b[0m",
      "\u001b[1;31mNameError\u001b[0m: name 'final_data' is not defined"
     ]
    }
   ],
   "source": [
    "final_data"
   ]
  },
  {
   "cell_type": "code",
   "execution_count": null,
   "metadata": {
    "collapsed": true
   },
   "outputs": [],
   "source": []
  },
  {
   "cell_type": "code",
   "execution_count": null,
   "metadata": {
    "collapsed": true
   },
   "outputs": [],
   "source": [
    "cluster = KMeans(n_clusters = 3)"
   ]
  },
  {
   "cell_type": "code",
   "execution_count": null,
   "metadata": {
    "collapsed": true
   },
   "outputs": [],
   "source": [
    "pivot_final_2015[\"cluster\"] = cluster.fit_predict(pivot_final_2015[pivot_final_2015.columns[2:]])"
   ]
  },
  {
   "cell_type": "code",
   "execution_count": null,
   "metadata": {
    "collapsed": true,
    "scrolled": true
   },
   "outputs": [],
   "source": [
    "pivot_final_2015.head()"
   ]
  },
  {
   "cell_type": "code",
   "execution_count": null,
   "metadata": {
    "collapsed": true
   },
   "outputs": [],
   "source": [
    "# Principal component separation to create a 2-dimensional picture\n",
    "pca = PCA(n_components = 2)\n",
    "pivot_final_2015['x'] = pca.fit_transform(pivot_final_2015[categories])[:,0]\n",
    "pivot_final_2015['y'] = pca.fit_transform(pivot_final_2015[categories])[:,1]\n",
    "pivot_final_2015 = pivot_final_2015.reset_index()"
   ]
  },
  {
   "cell_type": "code",
   "execution_count": null,
   "metadata": {
    "collapsed": true
   },
   "outputs": [],
   "source": [
    "country_clusters_2015 = pivot_final_2015[[\"Country\",\"cluster\",\"x\",\"y\"]]"
   ]
  },
  {
   "cell_type": "code",
   "execution_count": null,
   "metadata": {
    "collapsed": true
   },
   "outputs": [],
   "source": [
    "country_clusters_2015.tail()"
   ]
  },
  {
   "cell_type": "code",
   "execution_count": null,
   "metadata": {
    "collapsed": true
   },
   "outputs": [],
   "source": [
    "#plotly scatterplot of clusters\n",
    "trace0 = go.Scatter(x = country_clusters_2015[country_clusters_2015.cluster == 0][\"x\"],\n",
    "                    y = country_clusters_2015[country_clusters_2015.cluster == 0][\"y\"],\n",
    "                    name = \"Cluster 1\",\n",
    "                    mode = \"markers\",\n",
    "                    marker = dict(size = 10,\n",
    "                                 color = \"rgba(15, 152, 152, 0.5)\",\n",
    "                                 line = dict(width = 1, color = \"rgb(0,0,0)\")))\n",
    "trace1 = go.Scatter(x = country_clusters_2015[country_clusters_2015.cluster == 1][\"x\"],\n",
    "                    y = country_clusters_2015[country_clusters_2015.cluster == 1][\"y\"],\n",
    "                    name = \"Cluster 2\",\n",
    "                    mode = \"markers\",\n",
    "                    marker = dict(size = 10,\n",
    "                                 color = \"rgba(180, 18, 180, 0.5)\",\n",
    "                                 line = dict(width = 1, color = \"rgb(0,0,0)\")))\n",
    "trace2 = go.Scatter(x = country_clusters_2015[country_clusters_2015.cluster == 2][\"x\"],\n",
    "                    y = country_clusters_2015[country_clusters_2015.cluster == 2][\"y\"],\n",
    "                    name = \"Cluster 3\",\n",
    "                    mode = \"markers\",\n",
    "                    marker = dict(size = 10,\n",
    "                                 color = \"rgba(132, 132, 132, 0.8)\",\n",
    "                                 line = dict(width = 1, color = \"rgb(0,0,0)\")))\n",
    "\n",
    "data = [trace0, trace1, trace2]\n",
    "fig = go.Figure(data = data)\n",
    "fig.show()"
   ]
  },
  {
   "cell_type": "code",
   "execution_count": null,
   "metadata": {
    "collapsed": true
   },
   "outputs": [],
   "source": [
    "import plotly.express as px\n",
    "\n",
    "df = px.data.iris()\n",
    "fig = px.scatter(df, x=\"sepal_width\", y=\"sepal_length\", color=\"species\", title=\"A Plotly Express Figure\")\n",
    "\n",
    "# If you print the figure, you'll see that it's just a regular figure with data and layout\n",
    "# print(fig)\n",
    "\n",
    "fig.show()"
   ]
  },
  {
   "cell_type": "code",
   "execution_count": null,
   "metadata": {
    "collapsed": true
   },
   "outputs": [],
   "source": []
  }
 ],
 "metadata": {
  "kernelspec": {
   "display_name": "Python 3",
   "language": "python",
   "name": "python3"
  },
  "language_info": {
   "codemirror_mode": {
    "name": "ipython",
    "version": 3
   },
   "file_extension": ".py",
   "mimetype": "text/x-python",
   "name": "python",
   "nbconvert_exporter": "python",
   "pygments_lexer": "ipython3",
   "version": "3.6.3"
  }
 },
 "nbformat": 4,
 "nbformat_minor": 2
}
