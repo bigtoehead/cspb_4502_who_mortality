{
 "cells": [
  {
   "cell_type": "code",
   "execution_count": 5,
   "metadata": {},
   "outputs": [],
   "source": [
    "import pandas as pd\n",
    "import numpy as np\n",
    "import matplotlib.pyplot as plt\n",
    "import scipy\n",
    "from scipy import stats\n",
    "%matplotlib inline\n"
   ]
  },
  {
   "cell_type": "code",
   "execution_count": 4,
   "metadata": {},
   "outputs": [
    {
     "name": "stdout",
     "output_type": "stream",
     "text": [
      "0\n",
      "1\n",
      "2\n",
      "years     =  ['Year', '2001', '2002', '2003', '2004', '1996', '1997', '1998', '1999', '2000', '1995', '1994', '1988', '1989', '1990', '1991', '1992', '1993']\n",
      "done with list 1, starting list2...\n",
      "final_count =  3945141\n",
      "years     =  ['Year', '2001', '2002', '2003', '2004', '1996', '1997', '1998', '1999', '2000', '1995', '1994', '1988', '1989', '1990', '1991', '1992', '1993', '2005', '2006', '2007', '2008', '2009', '2010', '2011', '2012', '2013', '2014', '2015', '2017', '2016', '2018']\n"
     ]
    },
    {
     "ename": "AttributeError",
     "evalue": "'list' object has no attribute 'close'",
     "output_type": "error",
     "traceback": [
      "\u001b[0;31m---------------------------------------------------------------------------\u001b[0m",
      "\u001b[0;31mAttributeError\u001b[0m                            Traceback (most recent call last)",
      "\u001b[0;32m<ipython-input-4-326c42f0ba5e>\u001b[0m in \u001b[0;36m<module>\u001b[0;34m()\u001b[0m\n\u001b[1;32m     44\u001b[0m \u001b[0micd_01\u001b[0m\u001b[0;34m.\u001b[0m\u001b[0mclose\u001b[0m\u001b[0;34m(\u001b[0m\u001b[0;34m)\u001b[0m\u001b[0;34m\u001b[0m\u001b[0;34m\u001b[0m\u001b[0m\n\u001b[1;32m     45\u001b[0m \u001b[0micd_02\u001b[0m\u001b[0;34m.\u001b[0m\u001b[0mclose\u001b[0m\u001b[0;34m(\u001b[0m\u001b[0;34m)\u001b[0m\u001b[0;34m\u001b[0m\u001b[0;34m\u001b[0m\u001b[0m\n\u001b[0;32m---> 46\u001b[0;31m \u001b[0myears\u001b[0m\u001b[0;34m.\u001b[0m\u001b[0mclose\u001b[0m\u001b[0;34m(\u001b[0m\u001b[0;34m)\u001b[0m\u001b[0;34m\u001b[0m\u001b[0;34m\u001b[0m\u001b[0m\n\u001b[0m",
      "\u001b[0;31mAttributeError\u001b[0m: 'list' object has no attribute 'close'"
     ]
    }
   ],
   "source": [
    "for i in range(3):\n",
    "    print(i)\n",
    "\n",
    "#df = pd.read_csv('Morticd10_part1')\n",
    "#df = pd.read_csv('Morticd10_part1.csv',dtype='unicode')\n",
    "#print(df.List.iloc[0])\n",
    "#print(len(df.List))\n",
    "#df.head()\n",
    "\n",
    "icd_01 = open('Morticd10_part1','r')\n",
    "icd_02 = open('Morticd10_part2','r')\n",
    "list_101 = open('years.csv','w')\n",
    "\n",
    "\n",
    "\n",
    "count = 1\n",
    "lists = []\n",
    "\n",
    "years = []\n",
    "for line in icd_01.readlines():\n",
    "    this_year = line.split(',')[3]\n",
    "    this_cause = line.split(',')[5]\n",
    "    this_country = line.split(',')[0]\n",
    "    if this_year not in years:\n",
    "        years.append(this_year)\n",
    "    \n",
    "    count = count+1\n",
    "\n",
    "print(\"years     = \",years)\n",
    "    \n",
    "print(\"done with list 1, starting list2...\")\n",
    "for line in icd_02.readlines():\n",
    "    this_year = line.split(',')[3]\n",
    "    this_cause = line.split(',')[5]\n",
    "    this_country = line.split(',')[0]\n",
    "    if this_year not in years:\n",
    "        years.append(this_year)\n",
    "    count = count+1\n",
    "    \n",
    "print(\"final_count = \",count)\n",
    "print(\"years     = \",years)\n",
    "\n",
    "    \n",
    "icd_01.close()\n",
    "icd_02.close()\n",
    "years.close()"
   ]
  },
  {
   "cell_type": "code",
   "execution_count": 13,
   "metadata": {},
   "outputs": [
    {
     "name": "stdout",
     "output_type": "stream",
     "text": [
      "142\n"
     ]
    }
   ],
   "source": [
    "#df.tail()\n",
    "print(len(countries))"
   ]
  },
  {
   "cell_type": "code",
   "execution_count": 9,
   "metadata": {},
   "outputs": [
    {
     "name": "stdout",
     "output_type": "stream",
     "text": [
      "A\n",
      "12        1999\n",
      "6438      2000\n",
      "12829     2001\n",
      "20718     2002\n",
      "28622     2003\n",
      "36458     2004\n",
      "44230     2005\n",
      "52041     2006\n",
      "58410     2007\n",
      "64785     2008\n",
      "71124     2009\n",
      "77499     2010\n",
      "83844     2011\n",
      "90041     2012\n",
      "96228     2013\n",
      "102445    2014\n",
      "108674    2015\n",
      "115035    2016\n",
      "121535    2017\n",
      "Name: Year, dtype: int64\n",
      "12         304\n",
      "6438       429\n",
      "12829      487\n",
      "20718      850\n",
      "28622      998\n",
      "36458     1518\n",
      "44230     2074\n",
      "52041     2408\n",
      "58410     2399\n",
      "64785     2847\n",
      "71124     2856\n",
      "77499     2889\n",
      "83844     3092\n",
      "90041     3003\n",
      "96228     3035\n",
      "102445    2909\n",
      "108674    3003\n",
      "115035    2723\n",
      "121535    2481\n",
      "Name: Deaths1, dtype: int64\n"
     ]
    },
    {
     "data": {
      "image/png": "[encoded data removed]",
      "text/plain": [
       "<Figure size 432x288 with 1 Axes>"
      ]
     },
     "metadata": {
      "needs_background": "light"
     },
     "output_type": "display_data"
    }
   ],
   "source": [
    "year_female = df.Year[df.Sex=='2']\n",
    "bob = df.iloc[0]\n",
    "bob2 = bob.Cause[0]\n",
    "print(bob2)\n",
    "\n",
    "#a047_deaths_female = df.Deaths1[(df.Cause=='A047') & (df.Sex=='2')]#note that Sex needs to be a string in quotes ' '\n",
    "\n",
    "deaths_male = df.Deaths1[(df.Cause=='A047')&(df.Sex=='1')].apply(pd.to_numeric)\n",
    "years = df.Year[(df.Cause=='A047')&(df.Sex=='1')].apply(pd.to_numeric)\n",
    "#years = df.Year[(df.Cause=='A047')&(df.Sex=='1')]\n",
    "#deaths_male = df.Deaths1[(df.Cause=='A047')&(df.Sex=='1')]\n",
    "#years = df.Year[(df.Cause=='A047')&(df.Sex=='1')]\n",
    "\n",
    "#deaths_male = df.Deaths1\n",
    "#years = df.Year\n",
    "#print(dank[0][0])\n",
    "plt.scatter(years,deaths_male)\n",
    "print(years)\n",
    "print(deaths_male)\n",
    "\n",
    "\n"
   ]
  },
  {
   "cell_type": "code",
   "execution_count": 16,
   "metadata": {},
   "outputs": [
    {
     "data": {
      "text/plain": [
       "0         1999\n",
       "1         1999\n",
       "2         1999\n",
       "3         1999\n",
       "4         1999\n",
       "          ... \n",
       "127927    2017\n",
       "127928    2017\n",
       "127929    2017\n",
       "127930    2017\n",
       "127931    2017\n",
       "Name: Year, Length: 127932, dtype: object"
      ]
     },
     "execution_count": 16,
     "metadata": {},
     "output_type": "execute_result"
    }
   ],
   "source": [
    "year"
   ]
  },
  {
   "cell_type": "code",
   "execution_count": null,
   "metadata": {},
   "outputs": [],
   "source": []
  }
 ],
 "metadata": {
  "kernelspec": {
   "display_name": "Python 3",
   "language": "python",
   "name": "python3"
  },
  "language_info": {
   "codemirror_mode": {
    "name": "ipython",
    "version": 3
   },
   "file_extension": ".py",
   "mimetype": "text/x-python",
   "name": "python",
   "nbconvert_exporter": "python",
   "pygments_lexer": "ipython3",
   "version": "3.7.3"
  }
 },
 "nbformat": 4,
 "nbformat_minor": 4
}
