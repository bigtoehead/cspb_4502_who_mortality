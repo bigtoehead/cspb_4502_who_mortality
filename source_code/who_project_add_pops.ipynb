{
 "cells": [
  {
   "cell_type": "code",
   "execution_count": 40,
   "metadata": {},
   "outputs": [],
   "source": [
    "import pandas as pd\n",
    "import numpy as np\n",
    "import matplotlib.pyplot as plt\n",
    "import scipy\n",
    "from scipy import stats\n",
    "%matplotlib inline\n"
   ]
  },
  {
   "cell_type": "code",
   "execution_count": 41,
   "metadata": {},
   "outputs": [
    {
     "name": "stdout",
     "output_type": "stream",
     "text": [
      "100k down\n",
      "500k down\n",
      "one million down\n",
      "3569247\n"
     ]
    }
   ],
   "source": [
    "df = \n",
    "\n",
    "condensed = open('condensed_causes_full.csv','r')\n",
    "con_pops= open('condensed_with_population.csv','w')\n",
    "\n",
    "count = 0\n",
    "yes_count = 0\n",
    "for cline in condensed.readlines():\n",
    "    pops = open('CList_104_ordered.csv','r')\n",
    "    pcount = 0\n",
    "    for pline in pops.readlines():\n",
    "        if ((count==0) and (pcount==0)):\n",
    "            con_pops.writelines(pline.split('\\n')[0]+','+cline)\n",
    "        else:\n",
    "            if ((pcount>0) and (count>0)):\n",
    "                p_country = float(pline.split(',')[0])\n",
    "                c_country = float(cline.split(',')[1])\n",
    "                p_sex = float(pline.split(',')[2])\n",
    "                c_sex = float(cline.split(',')[7])\n",
    "                if ((p_country==c_country) and (p_sex==c_sex)):\n",
    "                    con_pops.writelines(pline.split('\\n')[0]+','+cline)\n",
    "        pcount = pcount+1\n",
    "            \n",
    "\n",
    "    pops.close()\n",
    "    count = count+1\n",
    "    if count==1000000:\n",
    "        print(\"one million down\")\n",
    "    if count==500000:\n",
    "        print(\"500k down\")\n",
    "    if count==100000:\n",
    "        print(\"100k down\")\n",
    "    \n",
    "print(count)\n",
    "condensed.close()\n",
    "con_pops.close()\n",
    "\n",
    "\n"
   ]
  },
  {
   "cell_type": "code",
   "execution_count": 20,
   "metadata": {},
   "outputs": [],
   "source": [
    "con_pops.close()\n"
   ]
  },
  {
   "cell_type": "code",
   "execution_count": null,
   "metadata": {},
   "outputs": [],
   "source": []
  }
 ],
 "metadata": {
  "kernelspec": {
   "display_name": "Python 3",
   "language": "python",
   "name": "python3"
  },
  "language_info": {
   "codemirror_mode": {
    "name": "ipython",
    "version": 3
   },
   "file_extension": ".py",
   "mimetype": "text/x-python",
   "name": "python",
   "nbconvert_exporter": "python",
   "pygments_lexer": "ipython3",
   "version": "3.7.3"
  }
 },
 "nbformat": 4,
 "nbformat_minor": 4
}
